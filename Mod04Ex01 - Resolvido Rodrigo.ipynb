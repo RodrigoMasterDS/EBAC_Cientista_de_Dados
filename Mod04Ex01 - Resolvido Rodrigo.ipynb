{
 "cells": [
  {
   "cell_type": "markdown",
   "metadata": {},
   "source": [
    "# Tarefa 01\n",
    "\n",
    "- Leia os enunciados com atenção\n",
    "- Saiba que pode haver mais de uma resposta correta\n",
    "- Insira novas células de código sempre que achar necessário\n",
    "- Em caso de dúvidas, procure os tutores\n",
    "- Divirta-se :)\n",
    "\n",
    "#### 1)  crie uma série do pandas a partir de uma lista com os dados abaixo:\n",
    "\n",
    "Em um estudo sobre alteração na tempreatura global, A NASA disponibiliza dados de diferenças de de temperatura média da superfície terrestre relativos às médias de temperatura entre 1951 e 1980. Os dados originais podem ser vistos no site da NASA/GISS, e estão dispostos a cada década na tabela abaixo.\n",
    "\n",
    "|ano|anomalia termica|\n",
    "|:-:|:----:|\n",
    "| 1900 | -0.08 |\n",
    "| 1920 | -0.27 |\n",
    "| 1940 | 0.12 |\n",
    "| 1960 | -0.03 |\n",
    "| 1980 | 0.26 |\n",
    "| 2000 | 0.40 |\n",
    "| 2020 | 1.02 |\n",
    "\n",
    "Crie uma séries do Pandas a partir de uma lista com esses dados."
   ]
  },
  {
   "cell_type": "code",
   "execution_count": 1,
   "metadata": {},
   "outputs": [
    {
     "data": {
      "text/plain": [
       "0   -0.08\n",
       "1   -0.27\n",
       "2    0.12\n",
       "3   -0.03\n",
       "4    0.26\n",
       "5    0.40\n",
       "6    1.02\n",
       "dtype: float64"
      ]
     },
     "execution_count": 1,
     "metadata": {},
     "output_type": "execute_result"
    }
   ],
   "source": [
    "import pandas as pd\n",
    "import numpy as np\n",
    "\n",
    "# Seu código aqui\n",
    "\n",
    "dados = [-0.08,-0.27,0.12,-0.03,0.26,0.40,1.02]\n",
    "anomaliaTermicaSemIndex = pd.Series(data=dados)\n",
    "anomaliaTermicaSemIndex"
   ]
  },
  {
   "cell_type": "markdown",
   "metadata": {},
   "source": [
    "#### 2) Coloque os anos nos índices conforme a tabela."
   ]
  },
  {
   "cell_type": "code",
   "execution_count": 2,
   "metadata": {},
   "outputs": [
    {
     "data": {
      "text/plain": [
       "1900   -0.08\n",
       "1920   -0.27\n",
       "1940    0.12\n",
       "1960   -0.03\n",
       "1980    0.26\n",
       "2000    0.40\n",
       "2020    1.02\n",
       "dtype: float64"
      ]
     },
     "execution_count": 2,
     "metadata": {},
     "output_type": "execute_result"
    }
   ],
   "source": [
    "\n",
    "# seu código aqui\n",
    "indice = ['1900','1920','1940','1960','1980','2000','2020']\n",
    "anomaliaTermicaSemIndex = pd.Series(data=dados, index=indice)\n",
    "anomaliaTermicaSemIndex"
   ]
  },
  {
   "cell_type": "markdown",
   "metadata": {},
   "source": [
    "#### 3) A partir do dicionário abaixo, crie uma séries do Pandas:"
   ]
  },
  {
   "cell_type": "code",
   "execution_count": 3,
   "metadata": {},
   "outputs": [
    {
     "data": {
      "text/plain": [
       "1900   -0.08\n",
       "1920   -0.27\n",
       "1940    0.12\n",
       "1960   -0.03\n",
       "1980    0.26\n",
       "2000    0.40\n",
       "2020    1.02\n",
       "dtype: float64"
      ]
     },
     "execution_count": 3,
     "metadata": {},
     "output_type": "execute_result"
    }
   ],
   "source": [
    "dic_temperaturas = {1900: -.08, 1920: -.27, 1940: .12, 1960: -.03, 1980: .26, 2000: .40, 2020: 1.02}\n",
    "\n",
    "# seu código aqui\n",
    "\n",
    "dic_temperaturasSeries = pd.Series(dic_temperaturas)\n",
    "dic_temperaturasSeries"
   ]
  },
  {
   "cell_type": "markdown",
   "metadata": {},
   "source": [
    "#### 4) Transforme o ndarray abaixo em um dataframe. \n",
    "O numpy é capaz de gerar arrays n-dimensionais com números pseudo-aleatórios de acordo com uma variedade de distribuições, como no exemplo abaixo. Transforme esse nd-array em um DataFrame."
   ]
  },
  {
   "cell_type": "code",
   "execution_count": 4,
   "metadata": {},
   "outputs": [
    {
     "data": {
      "text/plain": [
       "array([[ 91.48194477, 101.5933097 ,  90.53111642],\n",
       "       [ 96.19504334, 116.5398856 , 103.18831132],\n",
       "       [113.76575191, 106.85872884, 102.30972287],\n",
       "       [ 79.6415871 , 112.32525723,  89.92964046],\n",
       "       [102.36464408,  97.86088308, 104.56137359],\n",
       "       [102.13817764,  76.25283066, 101.21742642],\n",
       "       [ 88.04230286,  97.20874494, 116.06090407],\n",
       "       [110.61577067,  97.01532386, 108.82506732],\n",
       "       [ 83.27574024,  92.24926225,  95.54446144],\n",
       "       [ 97.31676577, 109.27474706, 101.96503493],\n",
       "       [ 92.83538678, 115.88446247, 101.24184238],\n",
       "       [112.37260792,  88.06559038, 101.32156859],\n",
       "       [108.92972548, 105.03257245, 106.7701807 ],\n",
       "       [117.00043274,  75.27620878,  98.23857882],\n",
       "       [109.45716538, 102.16918326, 102.93688764],\n",
       "       [106.30743785, 111.81383106,  90.54758017],\n",
       "       [117.47016441,  85.67409346, 115.57252095],\n",
       "       [102.99754971, 121.8786309 ,  90.47326677],\n",
       "       [ 98.97806628,  93.17477354,  96.9545018 ],\n",
       "       [ 94.52787617, 102.36350503, 115.13631188]])"
      ]
     },
     "execution_count": 4,
     "metadata": {},
     "output_type": "execute_result"
    }
   ],
   "source": [
    "# Criar o ndarray\n",
    "arr = np.random.normal(100, 10, (20, 3))\n",
    "arr\n",
    "\n"
   ]
  },
  {
   "cell_type": "code",
   "execution_count": 8,
   "metadata": {},
   "outputs": [
    {
     "name": "stdout",
     "output_type": "stream",
     "text": [
      "             0           1           2\n",
      "0    91.481945  101.593310   90.531116\n",
      "1    96.195043  116.539886  103.188311\n",
      "2   113.765752  106.858729  102.309723\n",
      "3    79.641587  112.325257   89.929640\n",
      "4   102.364644   97.860883  104.561374\n",
      "5   102.138178   76.252831  101.217426\n",
      "6    88.042303   97.208745  116.060904\n",
      "7   110.615771   97.015324  108.825067\n",
      "8    83.275740   92.249262   95.544461\n",
      "9    97.316766  109.274747  101.965035\n",
      "10   92.835387  115.884462  101.241842\n",
      "11  112.372608   88.065590  101.321569\n",
      "12  108.929725  105.032572  106.770181\n",
      "13  117.000433   75.276209   98.238579\n",
      "14  109.457165  102.169183  102.936888\n",
      "15  106.307438  111.813831   90.547580\n",
      "16  117.470164   85.674093  115.572521\n",
      "17  102.997550  121.878631   90.473267\n",
      "18   98.978066   93.174774   96.954502\n",
      "19   94.527876  102.363505  115.136312\n"
     ]
    }
   ],
   "source": [
    "data_df = pd.DataFrame(arr)\n",
    "print(data_df)"
   ]
  },
  {
   "cell_type": "markdown",
   "metadata": {},
   "source": [
    "#### 5) Nomeie os índices das linhas com inteiros de 1 a 20, e as colunas com os nomes \"x1\", \"x2\", e \"x3\" respectivamente."
   ]
  },
  {
   "cell_type": "code",
   "execution_count": 11,
   "metadata": {},
   "outputs": [],
   "source": [
    "data_df_index = pd.DataFrame(arr, index=range(1, 21), columns=['x1', 'x2', 'x3'])\n"
   ]
  },
  {
   "cell_type": "code",
   "execution_count": 12,
   "metadata": {},
   "outputs": [
    {
     "data": {
      "text/html": [
       "<div>\n",
       "<style scoped>\n",
       "    .dataframe tbody tr th:only-of-type {\n",
       "        vertical-align: middle;\n",
       "    }\n",
       "\n",
       "    .dataframe tbody tr th {\n",
       "        vertical-align: top;\n",
       "    }\n",
       "\n",
       "    .dataframe thead th {\n",
       "        text-align: right;\n",
       "    }\n",
       "</style>\n",
       "<table border=\"1\" class=\"dataframe\">\n",
       "  <thead>\n",
       "    <tr style=\"text-align: right;\">\n",
       "      <th></th>\n",
       "      <th>x1</th>\n",
       "      <th>x2</th>\n",
       "      <th>x3</th>\n",
       "    </tr>\n",
       "  </thead>\n",
       "  <tbody>\n",
       "    <tr>\n",
       "      <th>1</th>\n",
       "      <td>91.481945</td>\n",
       "      <td>101.593310</td>\n",
       "      <td>90.531116</td>\n",
       "    </tr>\n",
       "    <tr>\n",
       "      <th>2</th>\n",
       "      <td>96.195043</td>\n",
       "      <td>116.539886</td>\n",
       "      <td>103.188311</td>\n",
       "    </tr>\n",
       "    <tr>\n",
       "      <th>3</th>\n",
       "      <td>113.765752</td>\n",
       "      <td>106.858729</td>\n",
       "      <td>102.309723</td>\n",
       "    </tr>\n",
       "    <tr>\n",
       "      <th>4</th>\n",
       "      <td>79.641587</td>\n",
       "      <td>112.325257</td>\n",
       "      <td>89.929640</td>\n",
       "    </tr>\n",
       "    <tr>\n",
       "      <th>5</th>\n",
       "      <td>102.364644</td>\n",
       "      <td>97.860883</td>\n",
       "      <td>104.561374</td>\n",
       "    </tr>\n",
       "    <tr>\n",
       "      <th>6</th>\n",
       "      <td>102.138178</td>\n",
       "      <td>76.252831</td>\n",
       "      <td>101.217426</td>\n",
       "    </tr>\n",
       "    <tr>\n",
       "      <th>7</th>\n",
       "      <td>88.042303</td>\n",
       "      <td>97.208745</td>\n",
       "      <td>116.060904</td>\n",
       "    </tr>\n",
       "    <tr>\n",
       "      <th>8</th>\n",
       "      <td>110.615771</td>\n",
       "      <td>97.015324</td>\n",
       "      <td>108.825067</td>\n",
       "    </tr>\n",
       "    <tr>\n",
       "      <th>9</th>\n",
       "      <td>83.275740</td>\n",
       "      <td>92.249262</td>\n",
       "      <td>95.544461</td>\n",
       "    </tr>\n",
       "    <tr>\n",
       "      <th>10</th>\n",
       "      <td>97.316766</td>\n",
       "      <td>109.274747</td>\n",
       "      <td>101.965035</td>\n",
       "    </tr>\n",
       "    <tr>\n",
       "      <th>11</th>\n",
       "      <td>92.835387</td>\n",
       "      <td>115.884462</td>\n",
       "      <td>101.241842</td>\n",
       "    </tr>\n",
       "    <tr>\n",
       "      <th>12</th>\n",
       "      <td>112.372608</td>\n",
       "      <td>88.065590</td>\n",
       "      <td>101.321569</td>\n",
       "    </tr>\n",
       "    <tr>\n",
       "      <th>13</th>\n",
       "      <td>108.929725</td>\n",
       "      <td>105.032572</td>\n",
       "      <td>106.770181</td>\n",
       "    </tr>\n",
       "    <tr>\n",
       "      <th>14</th>\n",
       "      <td>117.000433</td>\n",
       "      <td>75.276209</td>\n",
       "      <td>98.238579</td>\n",
       "    </tr>\n",
       "    <tr>\n",
       "      <th>15</th>\n",
       "      <td>109.457165</td>\n",
       "      <td>102.169183</td>\n",
       "      <td>102.936888</td>\n",
       "    </tr>\n",
       "    <tr>\n",
       "      <th>16</th>\n",
       "      <td>106.307438</td>\n",
       "      <td>111.813831</td>\n",
       "      <td>90.547580</td>\n",
       "    </tr>\n",
       "    <tr>\n",
       "      <th>17</th>\n",
       "      <td>117.470164</td>\n",
       "      <td>85.674093</td>\n",
       "      <td>115.572521</td>\n",
       "    </tr>\n",
       "    <tr>\n",
       "      <th>18</th>\n",
       "      <td>102.997550</td>\n",
       "      <td>121.878631</td>\n",
       "      <td>90.473267</td>\n",
       "    </tr>\n",
       "    <tr>\n",
       "      <th>19</th>\n",
       "      <td>98.978066</td>\n",
       "      <td>93.174774</td>\n",
       "      <td>96.954502</td>\n",
       "    </tr>\n",
       "    <tr>\n",
       "      <th>20</th>\n",
       "      <td>94.527876</td>\n",
       "      <td>102.363505</td>\n",
       "      <td>115.136312</td>\n",
       "    </tr>\n",
       "  </tbody>\n",
       "</table>\n",
       "</div>"
      ],
      "text/plain": [
       "            x1          x2          x3\n",
       "1    91.481945  101.593310   90.531116\n",
       "2    96.195043  116.539886  103.188311\n",
       "3   113.765752  106.858729  102.309723\n",
       "4    79.641587  112.325257   89.929640\n",
       "5   102.364644   97.860883  104.561374\n",
       "6   102.138178   76.252831  101.217426\n",
       "7    88.042303   97.208745  116.060904\n",
       "8   110.615771   97.015324  108.825067\n",
       "9    83.275740   92.249262   95.544461\n",
       "10   97.316766  109.274747  101.965035\n",
       "11   92.835387  115.884462  101.241842\n",
       "12  112.372608   88.065590  101.321569\n",
       "13  108.929725  105.032572  106.770181\n",
       "14  117.000433   75.276209   98.238579\n",
       "15  109.457165  102.169183  102.936888\n",
       "16  106.307438  111.813831   90.547580\n",
       "17  117.470164   85.674093  115.572521\n",
       "18  102.997550  121.878631   90.473267\n",
       "19   98.978066   93.174774   96.954502\n",
       "20   94.527876  102.363505  115.136312"
      ]
     },
     "execution_count": 12,
     "metadata": {},
     "output_type": "execute_result"
    }
   ],
   "source": [
    "data_df_index"
   ]
  },
  {
   "cell_type": "markdown",
   "metadata": {},
   "source": [
    "#### 6) No DataFrame do exercício 5, crie uma nova coluna como sendo a média das três colunas, e dê a ela o nome de \"media\" (não recomendo colocar acentos em nomes de variáveis)."
   ]
  },
  {
   "cell_type": "code",
   "execution_count": 14,
   "metadata": {},
   "outputs": [
    {
     "name": "stdout",
     "output_type": "stream",
     "text": [
      "            x1          x2          x3       media\n",
      "1    91.481945  101.593310   90.531116   94.535457\n",
      "2    96.195043  116.539886  103.188311  105.307747\n",
      "3   113.765752  106.858729  102.309723  107.644735\n",
      "4    79.641587  112.325257   89.929640   93.965495\n",
      "5   102.364644   97.860883  104.561374  101.595634\n",
      "6   102.138178   76.252831  101.217426   93.202812\n",
      "7    88.042303   97.208745  116.060904  100.437317\n",
      "8   110.615771   97.015324  108.825067  105.485387\n",
      "9    83.275740   92.249262   95.544461   90.356488\n",
      "10   97.316766  109.274747  101.965035  102.852183\n",
      "11   92.835387  115.884462  101.241842  103.320564\n",
      "12  112.372608   88.065590  101.321569  100.586589\n",
      "13  108.929725  105.032572  106.770181  106.910826\n",
      "14  117.000433   75.276209   98.238579   96.838407\n",
      "15  109.457165  102.169183  102.936888  104.854412\n",
      "16  106.307438  111.813831   90.547580  102.889616\n",
      "17  117.470164   85.674093  115.572521  106.238926\n",
      "18  102.997550  121.878631   90.473267  105.116482\n",
      "19   98.978066   93.174774   96.954502   96.369114\n",
      "20   94.527876  102.363505  115.136312  104.009231\n"
     ]
    }
   ],
   "source": [
    "# seu código aqui\n",
    "\n",
    "data_df_index['media'] = df.mean(axis=1)\n",
    "print(data_df_index)"
   ]
  },
  {
   "cell_type": "markdown",
   "metadata": {},
   "source": [
    "#### 7) No DataFrame do exercício 6, crie uma nova coluna chamada \"log_med\", contendo o logaritmo natural da média calculada no exercício 6 <br>"
   ]
  },
  {
   "cell_type": "code",
   "execution_count": 16,
   "metadata": {},
   "outputs": [
    {
     "name": "stdout",
     "output_type": "stream",
     "text": [
      "            x1          x2          x3       media   log_med\n",
      "1    91.481945  101.593310   90.531116   94.535457  4.548975\n",
      "2    96.195043  116.539886  103.188311  105.307747  4.656887\n",
      "3   113.765752  106.858729  102.309723  107.644735  4.678836\n",
      "4    79.641587  112.325257   89.929640   93.965495  4.542928\n",
      "5   102.364644   97.860883  104.561374  101.595634  4.621001\n",
      "6   102.138178   76.252831  101.217426   93.202812  4.534778\n",
      "7    88.042303   97.208745  116.060904  100.437317  4.609534\n",
      "8   110.615771   97.015324  108.825067  105.485387  4.658572\n",
      "9    83.275740   92.249262   95.544461   90.356488  4.503763\n",
      "10   97.316766  109.274747  101.965035  102.852183  4.633293\n",
      "11   92.835387  115.884462  101.241842  103.320564  4.637836\n",
      "12  112.372608   88.065590  101.321569  100.586589  4.611019\n",
      "13  108.929725  105.032572  106.770181  106.910826  4.671995\n",
      "14  117.000433   75.276209   98.238579   96.838407  4.573044\n",
      "15  109.457165  102.169183  102.936888  104.854412  4.652573\n",
      "16  106.307438  111.813831   90.547580  102.889616  4.633657\n",
      "17  117.470164   85.674093  115.572521  106.238926  4.665691\n",
      "18  102.997550  121.878631   90.473267  105.116482  4.655069\n",
      "19   98.978066   93.174774   96.954502   96.369114  4.568186\n",
      "20   94.527876  102.363505  115.136312  104.009231  4.644480\n"
     ]
    }
   ],
   "source": [
    "data_df_index['log_med'] = np.log(df[['x1', 'x2', 'x3']].mean(axis=1))\n",
    "print(data_df_index)"
   ]
  }
 ],
 "metadata": {
  "kernelspec": {
   "display_name": "Python 3 (ipykernel)",
   "language": "python",
   "name": "python3"
  },
  "language_info": {
   "codemirror_mode": {
    "name": "ipython",
    "version": 3
   },
   "file_extension": ".py",
   "mimetype": "text/x-python",
   "name": "python",
   "nbconvert_exporter": "python",
   "pygments_lexer": "ipython3",
   "version": "3.10.9"
  }
 },
 "nbformat": 4,
 "nbformat_minor": 4
}
